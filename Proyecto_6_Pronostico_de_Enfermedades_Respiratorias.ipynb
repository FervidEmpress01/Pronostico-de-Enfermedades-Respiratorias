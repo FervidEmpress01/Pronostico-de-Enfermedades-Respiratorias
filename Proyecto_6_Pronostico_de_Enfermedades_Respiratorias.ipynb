{
 "cells": [
  {
   "cell_type": "code",
   "execution_count": 1,
   "metadata": {
    "id": "gdS3N4RaRGNI"
   },
   "outputs": [
    {
     "ename": "ModuleNotFoundError",
     "evalue": "No module named 'minimos_cuadrados'",
     "output_type": "error",
     "traceback": [
      "\u001b[0;31m---------------------------------------------------------------------------\u001b[0m",
      "\u001b[0;31mModuleNotFoundError\u001b[0m                       Traceback (most recent call last)",
      "Cell \u001b[0;32mIn[1], line 4\u001b[0m\n\u001b[1;32m      2\u001b[0m \u001b[38;5;28;01mimport\u001b[39;00m \u001b[38;5;21;01mnumpy\u001b[39;00m \u001b[38;5;28;01mas\u001b[39;00m \u001b[38;5;21;01mnp\u001b[39;00m\n\u001b[1;32m      3\u001b[0m \u001b[38;5;28;01mimport\u001b[39;00m \u001b[38;5;21;01mmatplotlib\u001b[39;00m\u001b[38;5;21;01m.\u001b[39;00m\u001b[38;5;21;01mpyplot\u001b[39;00m \u001b[38;5;28;01mas\u001b[39;00m \u001b[38;5;21;01mplt\u001b[39;00m\n\u001b[0;32m----> 4\u001b[0m \u001b[38;5;28;01mfrom\u001b[39;00m \u001b[38;5;21;01mminimos_cuadrados\u001b[39;00m \u001b[38;5;28;01mimport\u001b[39;00m minimos_cuadrados\n",
      "\u001b[0;31mModuleNotFoundError\u001b[0m: No module named 'minimos_cuadrados'"
     ]
    }
   ],
   "source": [
    "import pandas as pd\n",
    "import numpy as np\n",
    "import matplotlib.pyplot as plt\n",
    "from minimos_cuadrados import minimos_cuadrados\n",
    "from minimos_cuadrado_vid import minimos_cuadrados_vid("
   ]
  },
  {
   "cell_type": "code",
   "execution_count": null,
   "metadata": {
    "id": "tJQ1tmDARXpu",
    "outputId": "bce585b0-4933-4382-d71b-3d863a91fd69"
   },
   "outputs": [],
   "source": [
    "# Cargar el dataframe con las variables que se van a utilizar\n",
    "df = pd.read_csv(r\"asthma_disease_data.csv\")\n",
    "pd.set_option('display.max_rows', None)\n",
    "cols = [\n",
    "    \"Age\", \"Gender\", \"PollutionExposure\", \"PollenExposure\", \"DustExposure\",\n",
    "    \"FamilyHistoryAsthma\", \"Smoking\", \"PhysicalActivity\",\n",
    "    \"DietQuality\", \"HistoryOfAllergies\" , \"Diagnosis\"\n",
    "]\n",
    "# Vuelve a cargar el dataframe con las variables seleccionadas\n",
    "df = pd.read_csv(\"asthma_disease_data.csv\", usecols=cols)\n",
    "# Elimina las filas con valores nulos\n",
    "df = df.dropna()\n",
    "print(df)"
   ]
  },
  {
   "cell_type": "code",
   "execution_count": null,
   "metadata": {
    "id": "G60FkB-LRtUD",
    "outputId": "ffffafe2-bc9f-4584-8e32-aaeaa2ea6d06"
   },
   "outputs": [],
   "source": [
    "# Muestra las dimensiones del dataframe\n",
    "df.shape"
   ]
  },
  {
   "cell_type": "code",
   "execution_count": null,
   "metadata": {
    "id": "V06Ll9NARvfJ",
    "outputId": "e5a1abca-8999-45b2-bf7f-d3351cf769ee"
   },
   "outputs": [],
   "source": [
    "# Muestra la información detallada del dataframe para verificar los tipos de datos y si existen valores nulos.\n",
    "df.info()"
   ]
  },
  {
   "cell_type": "code",
   "execution_count": null,
   "metadata": {},
   "outputs": [],
   "source": [
    "# Agrupa la proporcion de diagnóstico por edad\n",
    "# Esto asume que 'Diagnosis' es una columna binaria donde 1 indica diagnóstico positivo y 0 negativo.\n",
    "prevalencia_edad = df.groupby('Age')['Diagnosis'].mean()\n",
    "x = df[\"Age\"].astype(float).tolist()\n",
    "y = df[\"Diagnosis\"].astype(float).tolist()\n",
    "print(minimos_cuadrados(x, y, 4))"
   ]
  },
  {
   "cell_type": "code",
   "execution_count": null,
   "metadata": {},
   "outputs": [],
   "source": [
    "# Agrupa la proporcion de diagnóstico por genero\n",
    "prevalencia_genero = df.groupby('Gender')['Diagnosis'].mean()\n",
    "x = df[\"Gender\"].astype(float).tolist()\n",
    "y = df[\"Diagnosis\"].astype(float).tolist()\n",
    "print(minimos_cuadrados(x, y, 4))"
   ]
  },
  {
   "cell_type": "code",
   "execution_count": null,
   "metadata": {},
   "outputs": [],
   "source": [
    "# Agrupa la proporcion de diagnóstico por consumo de tabaco\n",
    "prevalencia_fumadores = df.groupby('Smoking')['Diagnosis'].mean()\n",
    "x = df[\"Smoking\"].astype(float).tolist()    \n",
    "y = df[\"Diagnosis\"].astype(float).tolist()\n",
    "print(minimos_cuadrados(x, y, 4))"
   ]
  },
  {
   "cell_type": "code",
   "execution_count": null,
   "metadata": {},
   "outputs": [],
   "source": [
    "# Agrupa la proporcion de diagnóstico por actividad física\n",
    "prevalencia_act_fisica = df.groupby('PhysicalActivity')['Diagnosis'].mean()\n",
    "x = df[\"PhysicalActivity\"].astype(float).tolist()\n",
    "y = df[\"Diagnosis\"].astype(float).tolist()\n",
    "print(minimos_cuadrados(x, y, 4))"
   ]
  },
  {
   "cell_type": "code",
   "execution_count": null,
   "metadata": {},
   "outputs": [],
   "source": [
    "# Agrupa la proporcion de diagnóstico por calidad de la dieta\n",
    "prevalencia_calidad_dieta = df.groupby('DietQuality')['Diagnosis'].mean()\n",
    "x = df[\"DietQuality\"].astype(float).tolist()   \n",
    "y = df[\"Diagnosis\"].astype(float).tolist()\n",
    "print(minimos_cuadrados(x, y, 4))     "
   ]
  },
  {
   "cell_type": "code",
   "execution_count": null,
   "metadata": {},
   "outputs": [],
   "source": []
  },
  {
   "cell_type": "code",
   "execution_count": null,
   "metadata": {},
   "outputs": [],
   "source": [
    "# La agrupación con la proporción de diagnóstico con la contaminación ambiental (polución)\n",
    "prevalencia_genero = df.groupby('PollutionExposure')['Diagnosis'].mean()\n",
    "x = df[\"Gender\"].astype(float).tolist()\n",
    "y = df[\"Diagnosis\"].astype(float).tolist()\n",
    "print(minimos_cuadrados_vid(x, y, 4))"
   ]
  },
  {
   "cell_type": "code",
   "execution_count": null,
   "metadata": {},
   "outputs": [],
   "source": [
    "# La agrupación con la proporción de diagnóstico con la exposición al polen.\n",
    "prevalencia_genero = df.groupby('PollenExposure')['Diagnosis'].mean()\n",
    "x = df[\"Gender\"].astype(float).tolist()\n",
    "y = df[\"Diagnosis\"].astype(float).tolist()\n",
    "print(minimos_cuadrados_vid(x, y, 4))"
   ]
  },
  {
   "cell_type": "code",
   "execution_count": null,
   "metadata": {},
   "outputs": [],
   "source": [
    "# La agrupación con la proporción de diagnóstico con la exposición al polvo.\n",
    "prevalencia_genero = df.groupby('DustExposure')['Diagnosis'].mean()\n",
    "x = df[\"Gender\"].astype(float).tolist()\n",
    "y = df[\"Diagnosis\"].astype(float).tolist()\n",
    "print(minimos_cuadrados_vid(x, y, 4))"
   ]
  },
  {
   "cell_type": "code",
   "execution_count": null,
   "metadata": {},
   "outputs": [],
   "source": [
    "# La agrupación con la proporción de diagnóstico con el historial familar con respecto al Asma.\n",
    "prevalencia_genero = df.groupby('FamilyHistoryAsthma')['Diagnosis'].mean()\n",
    "x = df[\"Gender\"].astype(float).tolist()\n",
    "y = df[\"Diagnosis\"].astype(float).tolist()\n",
    "print(minimos_cuadrados_vid(x, y, 4))"
   ]
  },
  {
   "cell_type": "code",
   "execution_count": null,
   "metadata": {},
   "outputs": [],
   "source": [
    "# La agrupación con la proporción de diagnóstico con el historial de alergias del paciente.\n",
    "prevalencia_genero = df.groupby('HistoryOfAllergies')['Diagnosis'].mean()\n",
    "x = df[\"Gender\"].astype(float).tolist()\n",
    "y = df[\"Diagnosis\"].astype(float).tolist()\n",
    "print(minimos_cuadrados_vid(x, y, 4))"
   ]
  }
 ],
 "metadata": {
  "colab": {
   "provenance": []
  },
  "kaggle": {
   "accelerator": "none",
   "dataSources": [
    {
     "datasetId": 5195233,
     "sourceId": 8669080,
     "sourceType": "datasetVersion"
    }
   ],
   "dockerImageVersionId": 30732,
   "isGpuEnabled": false,
   "isInternetEnabled": false,
   "language": "python",
   "sourceType": "notebook"
  },
  "kernelspec": {
   "display_name": "Python 3 (ipykernel)",
   "language": "python",
   "name": "python3"
  },
  "language_info": {
   "codemirror_mode": {
    "name": "ipython",
    "version": 3
   },
   "file_extension": ".py",
   "mimetype": "text/x-python",
   "name": "python",
   "nbconvert_exporter": "python",
   "pygments_lexer": "ipython3",
   "version": "3.11.9"
  }
 },
 "nbformat": 4,
 "nbformat_minor": 4
}
